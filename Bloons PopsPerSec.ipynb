{
 "cells": [
  {
   "cell_type": "code",
   "execution_count": 1,
   "metadata": {},
   "outputs": [],
   "source": [
    "import pandas as pd"
   ]
  },
  {
   "cell_type": "code",
   "execution_count": 2,
   "metadata": {},
   "outputs": [],
   "source": [
    "# also MOAB popping power\n",
    "# also ceramic popping power\n",
    "# also lead/zebra popping capabilities"
   ]
  },
  {
   "cell_type": "code",
   "execution_count": 3,
   "metadata": {},
   "outputs": [],
   "source": [
    "# how to account for moab / ceramic power?\n",
    "\n",
    "\n",
    "# how many moabs popped (grouped ungrouped) only pop strongest\n",
    "# how many ceramics popped (grouped ungrouped) only pop strongest"
   ]
  },
  {
   "cell_type": "code",
   "execution_count": 4,
   "metadata": {},
   "outputs": [],
   "source": [
    "# should mean that it can handle 20 blue at 4 spacing each\n",
    "# doesnt account for speed of each bloon"
   ]
  },
  {
   "cell_type": "code",
   "execution_count": 5,
   "metadata": {},
   "outputs": [],
   "source": [
    "# how much a ninja can handle = pops/sec * seconds that bloons are in range\n",
    "\n",
    "# assume ninja shoots as fast as it can and always has a target bloon\n",
    "# basically seconds until starts shooting - seconds after last bloon passes \n",
    "# wave by wave calculation ^\n",
    "\n",
    "# range is a slight advantage when no new bloons spawning (cleanup crew potential)"
   ]
  },
  {
   "cell_type": "code",
   "execution_count": 6,
   "metadata": {},
   "outputs": [],
   "source": [
    "# if pops/sec of wave > pops/sec of towers then \n",
    "\n",
    "# depends on the cleanup crew\n",
    "# after bloons stop spawning\n",
    "# how long are remaining bloons still in range of towers\n",
    "# if pops/sec * sec still in range > remaining pops in wave then wave passed"
   ]
  },
  {
   "cell_type": "code",
   "execution_count": 7,
   "metadata": {},
   "outputs": [],
   "source": [
    "# pops/sec\n",
    "# red bloons speed = 25 spaces/sec\n",
    "\n",
    "# measure pops/sec how?\n",
    "# pop count per 1 minute max bloons"
   ]
  },
  {
   "cell_type": "code",
   "execution_count": 8,
   "metadata": {},
   "outputs": [],
   "source": [
    "# ninja = [(17.65, 66), (22.24, 68), (85.42, 250), (10.08, 32)]\n",
    "\n",
    "# for secs,pop in ninja:\n",
    "#     print(f\"avg: {pop/secs}\")\n",
    "    "
   ]
  },
  {
   "cell_type": "code",
   "execution_count": 9,
   "metadata": {},
   "outputs": [],
   "source": [
    "# if ninja can handle 3 pops/ sec then...\n",
    "\n",
    "\n",
    "# bloons spawned/sec\n",
    "# spacing 25 means 2.5 secs between bloons"
   ]
  },
  {
   "cell_type": "code",
   "execution_count": 10,
   "metadata": {},
   "outputs": [],
   "source": [
    "# so max reds would be "
   ]
  },
  {
   "cell_type": "code",
   "execution_count": 11,
   "metadata": {},
   "outputs": [],
   "source": [
    "# how many blues?\n",
    "# try without accounting for speedup\n",
    "\n",
    "# 2/x = 3\n",
    "# x = 0.7 = 7 spacing"
   ]
  },
  {
   "cell_type": "code",
   "execution_count": 12,
   "metadata": {},
   "outputs": [],
   "source": [
    "# 3/x = 3\n",
    "# x = 1 = 10 spacing = occasional whiffing"
   ]
  },
  {
   "cell_type": "code",
   "execution_count": 13,
   "metadata": {},
   "outputs": [],
   "source": [
    "# < 3 - 1,2\n",
    "# < 6 - 3,4"
   ]
  },
  {
   "cell_type": "code",
   "execution_count": 14,
   "metadata": {},
   "outputs": [],
   "source": [
    "def pops(ls):\n",
    "    for pops, sec in ls:\n",
    "        return pops/sec"
   ]
  },
  {
   "cell_type": "code",
   "execution_count": 15,
   "metadata": {},
   "outputs": [],
   "source": [
    "class Tower:\n",
    "    towers = []\n",
    "    \n",
    "    def __init__(self, name, ls, cost=0):\n",
    "        self.name = name\n",
    "        self.ls = ls\n",
    "        self.cost = cost\n",
    "        self.towers.append(self)\n",
    "        \n",
    "    def pops(self):\n",
    "        avg = 0\n",
    "        for pops,sec in self.ls:\n",
    "            avg += pops/sec\n",
    "        return avg/len(self.ls)\n",
    "    \n",
    "    def __repr__(self):\n",
    "        return f\"{self.name} - {self.pops()} pops/sec\""
   ]
  },
  {
   "cell_type": "code",
   "execution_count": 16,
   "metadata": {},
   "outputs": [
    {
     "data": {
      "text/plain": [
       "dart000 - 9.970326409495549 pops/sec"
      ]
     },
     "execution_count": 16,
     "metadata": {},
     "output_type": "execute_result"
    }
   ],
   "source": [
    "Tower(\"dart000\",[(168, 16.85)], 215)"
   ]
  },
  {
   "cell_type": "code",
   "execution_count": 17,
   "metadata": {},
   "outputs": [
    {
     "data": {
      "text/plain": [
       "dart010 - 13.238770685579194 pops/sec"
      ]
     },
     "execution_count": 17,
     "metadata": {},
     "output_type": "execute_result"
    }
   ],
   "source": [
    "Tower(\"dart010\",[(224, 16.92)], 215+110)"
   ]
  },
  {
   "cell_type": "code",
   "execution_count": 18,
   "metadata": {},
   "outputs": [
    {
     "data": {
      "text/plain": [
       "dart100 - 13.2858837485172 pops/sec"
      ]
     },
     "execution_count": 18,
     "metadata": {},
     "output_type": "execute_result"
    }
   ],
   "source": [
    "Tower(\"dart100\",[(224, 16.86)], 215+150)"
   ]
  },
  {
   "cell_type": "code",
   "execution_count": 19,
   "metadata": {},
   "outputs": [
    {
     "data": {
      "text/plain": [
       "dart220 - 28.79765395894428 pops/sec"
      ]
     },
     "execution_count": 19,
     "metadata": {},
     "output_type": "execute_result"
    }
   ],
   "source": [
    "Tower(\"dart220\",[(491, 17.05)], 215+150+110+235+205)"
   ]
  },
  {
   "cell_type": "code",
   "execution_count": 20,
   "metadata": {},
   "outputs": [
    {
     "data": {
      "text/plain": [
       "dart300 - 63.09452137266707 pops/sec"
      ]
     },
     "execution_count": 20,
     "metadata": {},
     "output_type": "execute_result"
    }
   ],
   "source": [
    "Tower(\"dart300\",[(1048, 16.61)], 215+150+235+325)"
   ]
  },
  {
   "cell_type": "code",
   "execution_count": 21,
   "metadata": {},
   "outputs": [
    {
     "data": {
      "text/plain": [
       "dart320 - 89.86202759448109 pops/sec"
      ]
     },
     "execution_count": 21,
     "metadata": {},
     "output_type": "execute_result"
    }
   ],
   "source": [
    "Tower(\"dart320\",[(1498, 16.67)], 215+150+110+235+205+325)"
   ]
  },
  {
   "cell_type": "code",
   "execution_count": 22,
   "metadata": {},
   "outputs": [
    {
     "data": {
      "text/plain": [
       "dart230 - 81.1611374407583 pops/sec"
      ]
     },
     "execution_count": 22,
     "metadata": {},
     "output_type": "execute_result"
    }
   ],
   "source": [
    "Tower(\"dart230\",[(1370, 16.88)], 215+150+110+235+205+430)"
   ]
  },
  {
   "cell_type": "code",
   "execution_count": 23,
   "metadata": {},
   "outputs": [
    {
     "data": {
      "text/plain": [
       "dart420 - 452.2824102251978 pops/sec"
      ]
     },
     "execution_count": 23,
     "metadata": {},
     "output_type": "execute_result"
    }
   ],
   "source": [
    "Tower(\"dart420\",[(7431, 16.43)], 215+150+110+235+205+325+1945)"
   ]
  },
  {
   "cell_type": "code",
   "execution_count": 24,
   "metadata": {},
   "outputs": [
    {
     "data": {
      "text/plain": [
       "dart520 - 2000.0 pops/sec"
      ]
     },
     "execution_count": 24,
     "metadata": {},
     "output_type": "execute_result"
    }
   ],
   "source": [
    "Tower(\"dart520\",[(40000, 20)], 215+150+110+235+205+325+1945+16200)"
   ]
  },
  {
   "cell_type": "code",
   "execution_count": 25,
   "metadata": {},
   "outputs": [
    {
     "data": {
      "text/plain": [
       "boomer230 - 165.8421672555948 pops/sec"
      ]
     },
     "execution_count": 25,
     "metadata": {},
     "output_type": "execute_result"
    }
   ],
   "source": [
    "Tower(\"boomer230\", [(2816,16.98)], 350+215+190+300+270+1730)"
   ]
  },
  {
   "cell_type": "code",
   "execution_count": 26,
   "metadata": {},
   "outputs": [
    {
     "data": {
      "text/plain": [
       "bomb023 - 300.2249718785152 pops/sec"
      ]
     },
     "execution_count": 26,
     "metadata": {},
     "output_type": "execute_result"
    }
   ],
   "source": [
    "Tower(\"bomb023\",[(5338,17.78)],650+270+215+430+325+865)"
   ]
  },
  {
   "cell_type": "code",
   "execution_count": 27,
   "metadata": {},
   "outputs": [
    {
     "data": {
      "text/plain": [
       "bomb024 - 1091.0 pops/sec"
      ]
     },
     "execution_count": 27,
     "metadata": {},
     "output_type": "execute_result"
    }
   ],
   "source": [
    "Tower(\"bomb024\",[(22911,21)],650+270+215+430+325+865+3025)"
   ]
  },
  {
   "cell_type": "code",
   "execution_count": 28,
   "metadata": {},
   "outputs": [
    {
     "data": {
      "text/plain": [
       "sniper000 - 4.160475482912332 pops/sec"
      ]
     },
     "execution_count": 28,
     "metadata": {},
     "output_type": "execute_result"
    }
   ],
   "source": [
    "Tower(\"sniper000\",[(56,13.46)], 380)"
   ]
  },
  {
   "cell_type": "code",
   "execution_count": 29,
   "metadata": {},
   "outputs": [
    {
     "data": {
      "text/plain": [
       "sniper302 - 406.0952380952381 pops/sec"
      ]
     },
     "execution_count": 29,
     "metadata": {},
     "output_type": "execute_result"
    }
   ],
   "source": [
    "Tower(\"sniper302\",[(8528,21)], 380+380+430+1620+430+3240)"
   ]
  },
  {
   "cell_type": "code",
   "execution_count": 30,
   "metadata": {},
   "outputs": [
    {
     "data": {
      "text/plain": [
       "sniper203 - 468.14285714285717 pops/sec"
      ]
     },
     "execution_count": 30,
     "metadata": {},
     "output_type": "execute_result"
    }
   ],
   "source": [
    "Tower(\"sniper203\",[(9831,21)], 380+380+430+1620+430+3780)"
   ]
  },
  {
   "cell_type": "code",
   "execution_count": 31,
   "metadata": {},
   "outputs": [
    {
     "data": {
      "text/plain": [
       "sniper204 - 726.7142857142857 pops/sec"
      ]
     },
     "execution_count": 31,
     "metadata": {},
     "output_type": "execute_result"
    }
   ],
   "source": [
    "Tower(\"sniper204\",[(15261,21)], 380+380+430+1620+430+3780+5130)"
   ]
  },
  {
   "cell_type": "code",
   "execution_count": 32,
   "metadata": {},
   "outputs": [
    {
     "data": {
      "text/plain": [
       "engi000 - 13.68421052631579 pops/sec"
      ]
     },
     "execution_count": 32,
     "metadata": {},
     "output_type": "execute_result"
    }
   ],
   "source": [
    "Tower(\"engi000\",[(78,5.7)], 485)"
   ]
  },
  {
   "cell_type": "code",
   "execution_count": 33,
   "metadata": {},
   "outputs": [
    {
     "data": {
      "text/plain": [
       "spactory000 - 11.454545454545455 pops/sec"
      ]
     },
     "execution_count": 33,
     "metadata": {},
     "output_type": "execute_result"
    }
   ],
   "source": [
    "Tower(\"spactory000\",[(126, 11)], 1080)"
   ]
  },
  {
   "cell_type": "code",
   "execution_count": 34,
   "metadata": {},
   "outputs": [
    {
     "data": {
      "text/plain": [
       "tack000 - 2.452153110047847 pops/sec"
      ]
     },
     "execution_count": 34,
     "metadata": {},
     "output_type": "execute_result"
    }
   ],
   "source": [
    "Tower(\"tack000\",[(41, 16.72)], 300)"
   ]
  },
  {
   "cell_type": "code",
   "execution_count": 35,
   "metadata": {},
   "outputs": [
    {
     "data": {
      "text/plain": [
       "tack420 - 1334.257654534951 pops/sec"
      ]
     },
     "execution_count": 35,
     "metadata": {},
     "output_type": "execute_result"
    }
   ],
   "source": [
    "Tower(\"tack420\",[(23096, 17.31)], 300+160+110+325+245+650+3780)"
   ]
  },
  {
   "cell_type": "code",
   "execution_count": 36,
   "metadata": {},
   "outputs": [
    {
     "data": {
      "text/plain": [
       "boat010 - 72.22222222222223 pops/sec"
      ]
     },
     "execution_count": 36,
     "metadata": {},
     "output_type": "execute_result"
    }
   ],
   "source": [
    "Tower(\"boat010\",[(1300,18)],540+595)"
   ]
  },
  {
   "cell_type": "code",
   "execution_count": 37,
   "metadata": {},
   "outputs": [
    {
     "data": {
      "text/plain": [
       "boat020 - 86.9693396226415 pops/sec"
      ]
     },
     "execution_count": 37,
     "metadata": {},
     "output_type": "execute_result"
    }
   ],
   "source": [
    "Tower(\"boat020\",[(1475,16.96)],540+595+540)"
   ]
  },
  {
   "cell_type": "code",
   "execution_count": 38,
   "metadata": {},
   "outputs": [
    {
     "data": {
      "text/plain": [
       "sub200 - 12.528064660978895 pops/sec"
      ]
     },
     "execution_count": 38,
     "metadata": {},
     "output_type": "execute_result"
    }
   ],
   "source": [
    "Tower(\"sub200\",[(279,22.27)],350+140+540)"
   ]
  },
  {
   "cell_type": "code",
   "execution_count": 39,
   "metadata": {},
   "outputs": [
    {
     "data": {
      "text/plain": [
       "sub201 - 25.739783936120244 pops/sec"
      ]
     },
     "execution_count": 39,
     "metadata": {},
     "output_type": "execute_result"
    }
   ],
   "source": [
    "Tower(\"sub201\",[(548,21.29)],350+140+540+486)"
   ]
  },
  {
   "cell_type": "code",
   "execution_count": 40,
   "metadata": {},
   "outputs": [
    {
     "data": {
      "text/plain": [
       "sub202 - 103.8632326820604 pops/sec"
      ]
     },
     "execution_count": 40,
     "metadata": {},
     "output_type": "execute_result"
    }
   ],
   "source": [
    "Tower(\"sub202\",[(2339,22.52)],350+140+540+486+1080)"
   ]
  },
  {
   "cell_type": "code",
   "execution_count": 41,
   "metadata": {},
   "outputs": [
    {
     "data": {
      "text/plain": [
       "sub203 - 151.24333925399645 pops/sec"
      ]
     },
     "execution_count": 41,
     "metadata": {},
     "output_type": "execute_result"
    }
   ],
   "source": [
    "Tower(\"sub203\",[(3406,22.52)],350+140+540+486+1080+1190)"
   ]
  },
  {
   "cell_type": "code",
   "execution_count": 42,
   "metadata": {},
   "outputs": [
    {
     "data": {
      "text/plain": [
       "dartling100 - 15.777777777777779 pops/sec"
      ]
     },
     "execution_count": 42,
     "metadata": {},
     "output_type": "execute_result"
    }
   ],
   "source": [
    "Tower(\"dartling100\",[(284,18)],920+325)"
   ]
  },
  {
   "cell_type": "code",
   "execution_count": 43,
   "metadata": {},
   "outputs": [
    {
     "data": {
      "text/plain": [
       "supermonkey200 - 315.8653846153846 pops/sec"
      ]
     },
     "execution_count": 43,
     "metadata": {},
     "output_type": "execute_result"
    }
   ],
   "source": [
    "Tower(\"supermonkey200\",[(5256,16.64)],2700+2700+4860)"
   ]
  },
  {
   "cell_type": "code",
   "execution_count": 44,
   "metadata": {},
   "outputs": [
    {
     "data": {
      "text/plain": [
       "supermonkey320 - 1878.1942078364566 pops/sec"
      ]
     },
     "execution_count": 44,
     "metadata": {},
     "output_type": "execute_result"
    }
   ],
   "source": [
    "Tower(\"supermonkey320\",[(33075,17.61)],2700+2700+4860+23760+1080+1510)"
   ]
  },
  {
   "cell_type": "code",
   "execution_count": 45,
   "metadata": {},
   "outputs": [
    {
     "data": {
      "text/plain": [
       "supermonkey230 - 2736.08545034642 pops/sec"
      ]
     },
     "execution_count": 45,
     "metadata": {},
     "output_type": "execute_result"
    }
   ],
   "source": [
    "Tower(\"supermonkey230\",[(47389,17.32)],2700+2700+4860+9070+1080+1510)"
   ]
  },
  {
   "cell_type": "code",
   "execution_count": 46,
   "metadata": {},
   "outputs": [],
   "source": [
    "# make a d that shows tower and pops/sec of tower"
   ]
  },
  {
   "cell_type": "code",
   "execution_count": 47,
   "metadata": {},
   "outputs": [
    {
     "data": {
      "text/plain": [
       "ninja001 - 8.931157197202111 pops/sec"
      ]
     },
     "execution_count": 47,
     "metadata": {},
     "output_type": "execute_result"
    }
   ],
   "source": [
    "Tower(\"ninja001\",[(52,5.8), (150,16.86)], 540+270)"
   ]
  },
  {
   "cell_type": "code",
   "execution_count": 48,
   "metadata": {},
   "outputs": [
    {
     "data": {
      "text/plain": [
       "ninja002 - 13.565426170468188 pops/sec"
      ]
     },
     "execution_count": 48,
     "metadata": {},
     "output_type": "execute_result"
    }
   ],
   "source": [
    "Tower(\"ninja002\",[(226,16.66)], 540+270+430)"
   ]
  },
  {
   "cell_type": "code",
   "execution_count": 49,
   "metadata": {},
   "outputs": [
    {
     "data": {
      "text/plain": [
       "ninja101 - 14.44509688784498 pops/sec"
      ]
     },
     "execution_count": 49,
     "metadata": {},
     "output_type": "execute_result"
    }
   ],
   "source": [
    "Tower(\"ninja101\",[(246, 17.03)], 540+270+325)"
   ]
  },
  {
   "cell_type": "code",
   "execution_count": 50,
   "metadata": {},
   "outputs": [
    {
     "data": {
      "text/plain": [
       "ninja201 - 28.841607565011817 pops/sec"
      ]
     },
     "execution_count": 50,
     "metadata": {},
     "output_type": "execute_result"
    }
   ],
   "source": [
    "Tower(\"ninja201\",[(488,16.92)], 540+270+325+380)"
   ]
  },
  {
   "cell_type": "code",
   "execution_count": 51,
   "metadata": {},
   "outputs": [
    {
     "data": {
      "text/plain": [
       "ninja301 - 58.08736717827627 pops/sec"
      ]
     },
     "execution_count": 51,
     "metadata": {},
     "output_type": "execute_result"
    }
   ],
   "source": [
    "Tower(\"ninja301\",[(984,16.94)], 540+270+325+380+920)"
   ]
  },
  {
   "cell_type": "code",
   "execution_count": 52,
   "metadata": {},
   "outputs": [
    {
     "data": {
      "text/plain": [
       "ninja401 - 146.19532654284 pops/sec"
      ]
     },
     "execution_count": 52,
     "metadata": {},
     "output_type": "execute_result"
    }
   ],
   "source": [
    "Tower(\"ninja401\",[(2440,16.69)], 540+270+325+380+920+2970)"
   ]
  },
  {
   "cell_type": "code",
   "execution_count": 53,
   "metadata": {},
   "outputs": [
    {
     "data": {
      "text/plain": [
       "ninja501 - 1054.951690821256 pops/sec"
      ]
     },
     "execution_count": 53,
     "metadata": {},
     "output_type": "execute_result"
    }
   ],
   "source": [
    "Tower(\"ninja501\",[(17470,16.56)], 540+270+325+380+920+2970+37800)"
   ]
  },
  {
   "cell_type": "code",
   "execution_count": 54,
   "metadata": {},
   "outputs": [
    {
     "data": {
      "text/plain": [
       "plane203 - 269.1924227318046 pops/sec"
      ]
     },
     "execution_count": 54,
     "metadata": {},
     "output_type": "execute_result"
    }
   ],
   "source": [
    "Tower(\"plane203\",[(5400,20.06)],865+700+540+700+325+2375)"
   ]
  },
  {
   "cell_type": "code",
   "execution_count": 55,
   "metadata": {},
   "outputs": [
    {
     "data": {
      "text/plain": [
       "plane204 - 5357.142857142857 pops/sec"
      ]
     },
     "execution_count": 55,
     "metadata": {},
     "output_type": "execute_result"
    }
   ],
   "source": [
    "Tower(\"plane204\",[(225000,42)],865+700+540+700+325+2375+25920)"
   ]
  },
  {
   "cell_type": "code",
   "execution_count": 63,
   "metadata": {
    "scrolled": true
   },
   "outputs": [],
   "source": [
    "df = pd.DataFrame({\n",
    "    \"Tower\":[x.name for x in Tower.towers],\n",
    "    \"Pops/Sec\":[x.pops() for x in Tower.towers],\n",
    "    \"(Pops/Sec)/$\":[x.pops()/x.cost for x in Tower.towers]\n",
    "}).sort_values(by=\"(Pops/Sec)/$\",ascending=False)"
   ]
  },
  {
   "cell_type": "code",
   "execution_count": 64,
   "metadata": {},
   "outputs": [
    {
     "data": {
      "text/html": [
       "<div>\n",
       "<style scoped>\n",
       "    .dataframe tbody tr th:only-of-type {\n",
       "        vertical-align: middle;\n",
       "    }\n",
       "\n",
       "    .dataframe tbody tr th {\n",
       "        vertical-align: top;\n",
       "    }\n",
       "\n",
       "    .dataframe thead th {\n",
       "        text-align: right;\n",
       "    }\n",
       "</style>\n",
       "<table border=\"1\" class=\"dataframe\">\n",
       "  <thead>\n",
       "    <tr style=\"text-align: right;\">\n",
       "      <th></th>\n",
       "      <th>Tower</th>\n",
       "      <th>Pops/Sec</th>\n",
       "      <th>(Pops/Sec)/$</th>\n",
       "    </tr>\n",
       "  </thead>\n",
       "  <tbody>\n",
       "    <tr>\n",
       "      <td>19</td>\n",
       "      <td>tack420</td>\n",
       "      <td>1334.257655</td>\n",
       "      <td>0.239544</td>\n",
       "    </tr>\n",
       "    <tr>\n",
       "      <td>11</td>\n",
       "      <td>bomb024</td>\n",
       "      <td>1091.000000</td>\n",
       "      <td>0.188754</td>\n",
       "    </tr>\n",
       "    <tr>\n",
       "      <td>38</td>\n",
       "      <td>plane204</td>\n",
       "      <td>5357.142857</td>\n",
       "      <td>0.170474</td>\n",
       "    </tr>\n",
       "    <tr>\n",
       "      <td>7</td>\n",
       "      <td>dart420</td>\n",
       "      <td>452.282410</td>\n",
       "      <td>0.142004</td>\n",
       "    </tr>\n",
       "    <tr>\n",
       "      <td>29</td>\n",
       "      <td>supermonkey230</td>\n",
       "      <td>2736.085450</td>\n",
       "      <td>0.124821</td>\n",
       "    </tr>\n",
       "    <tr>\n",
       "      <td>10</td>\n",
       "      <td>bomb023</td>\n",
       "      <td>300.224972</td>\n",
       "      <td>0.108975</td>\n",
       "    </tr>\n",
       "    <tr>\n",
       "      <td>8</td>\n",
       "      <td>dart520</td>\n",
       "      <td>2000.000000</td>\n",
       "      <td>0.103173</td>\n",
       "    </tr>\n",
       "    <tr>\n",
       "      <td>5</td>\n",
       "      <td>dart320</td>\n",
       "      <td>89.862028</td>\n",
       "      <td>0.072469</td>\n",
       "    </tr>\n",
       "    <tr>\n",
       "      <td>4</td>\n",
       "      <td>dart300</td>\n",
       "      <td>63.094521</td>\n",
       "      <td>0.068210</td>\n",
       "    </tr>\n",
       "    <tr>\n",
       "      <td>14</td>\n",
       "      <td>sniper203</td>\n",
       "      <td>468.142857</td>\n",
       "      <td>0.066687</td>\n",
       "    </tr>\n",
       "    <tr>\n",
       "      <td>20</td>\n",
       "      <td>boat010</td>\n",
       "      <td>72.222222</td>\n",
       "      <td>0.063632</td>\n",
       "    </tr>\n",
       "    <tr>\n",
       "      <td>13</td>\n",
       "      <td>sniper302</td>\n",
       "      <td>406.095238</td>\n",
       "      <td>0.062669</td>\n",
       "    </tr>\n",
       "    <tr>\n",
       "      <td>6</td>\n",
       "      <td>dart230</td>\n",
       "      <td>81.161137</td>\n",
       "      <td>0.060343</td>\n",
       "    </tr>\n",
       "    <tr>\n",
       "      <td>15</td>\n",
       "      <td>sniper204</td>\n",
       "      <td>726.714286</td>\n",
       "      <td>0.059812</td>\n",
       "    </tr>\n",
       "    <tr>\n",
       "      <td>9</td>\n",
       "      <td>boomer230</td>\n",
       "      <td>165.842167</td>\n",
       "      <td>0.054285</td>\n",
       "    </tr>\n",
       "    <tr>\n",
       "      <td>21</td>\n",
       "      <td>boat020</td>\n",
       "      <td>86.969340</td>\n",
       "      <td>0.051922</td>\n",
       "    </tr>\n",
       "    <tr>\n",
       "      <td>28</td>\n",
       "      <td>supermonkey320</td>\n",
       "      <td>1878.194208</td>\n",
       "      <td>0.051303</td>\n",
       "    </tr>\n",
       "    <tr>\n",
       "      <td>37</td>\n",
       "      <td>plane203</td>\n",
       "      <td>269.192423</td>\n",
       "      <td>0.048900</td>\n",
       "    </tr>\n",
       "    <tr>\n",
       "      <td>0</td>\n",
       "      <td>dart000</td>\n",
       "      <td>9.970326</td>\n",
       "      <td>0.046374</td>\n",
       "    </tr>\n",
       "    <tr>\n",
       "      <td>1</td>\n",
       "      <td>dart010</td>\n",
       "      <td>13.238771</td>\n",
       "      <td>0.040735</td>\n",
       "    </tr>\n",
       "    <tr>\n",
       "      <td>24</td>\n",
       "      <td>sub202</td>\n",
       "      <td>103.863233</td>\n",
       "      <td>0.040009</td>\n",
       "    </tr>\n",
       "    <tr>\n",
       "      <td>25</td>\n",
       "      <td>sub203</td>\n",
       "      <td>151.243339</td>\n",
       "      <td>0.039948</td>\n",
       "    </tr>\n",
       "    <tr>\n",
       "      <td>2</td>\n",
       "      <td>dart100</td>\n",
       "      <td>13.285884</td>\n",
       "      <td>0.036400</td>\n",
       "    </tr>\n",
       "    <tr>\n",
       "      <td>3</td>\n",
       "      <td>dart220</td>\n",
       "      <td>28.797654</td>\n",
       "      <td>0.031473</td>\n",
       "    </tr>\n",
       "    <tr>\n",
       "      <td>27</td>\n",
       "      <td>supermonkey200</td>\n",
       "      <td>315.865385</td>\n",
       "      <td>0.030786</td>\n",
       "    </tr>\n",
       "    <tr>\n",
       "      <td>16</td>\n",
       "      <td>engi000</td>\n",
       "      <td>13.684211</td>\n",
       "      <td>0.028215</td>\n",
       "    </tr>\n",
       "    <tr>\n",
       "      <td>35</td>\n",
       "      <td>ninja401</td>\n",
       "      <td>146.195327</td>\n",
       "      <td>0.027048</td>\n",
       "    </tr>\n",
       "    <tr>\n",
       "      <td>36</td>\n",
       "      <td>ninja501</td>\n",
       "      <td>1054.951691</td>\n",
       "      <td>0.024417</td>\n",
       "    </tr>\n",
       "    <tr>\n",
       "      <td>34</td>\n",
       "      <td>ninja301</td>\n",
       "      <td>58.087367</td>\n",
       "      <td>0.023855</td>\n",
       "    </tr>\n",
       "    <tr>\n",
       "      <td>33</td>\n",
       "      <td>ninja201</td>\n",
       "      <td>28.841608</td>\n",
       "      <td>0.019037</td>\n",
       "    </tr>\n",
       "    <tr>\n",
       "      <td>23</td>\n",
       "      <td>sub201</td>\n",
       "      <td>25.739784</td>\n",
       "      <td>0.016979</td>\n",
       "    </tr>\n",
       "    <tr>\n",
       "      <td>32</td>\n",
       "      <td>ninja101</td>\n",
       "      <td>14.445097</td>\n",
       "      <td>0.012727</td>\n",
       "    </tr>\n",
       "    <tr>\n",
       "      <td>26</td>\n",
       "      <td>dartling100</td>\n",
       "      <td>15.777778</td>\n",
       "      <td>0.012673</td>\n",
       "    </tr>\n",
       "    <tr>\n",
       "      <td>22</td>\n",
       "      <td>sub200</td>\n",
       "      <td>12.528065</td>\n",
       "      <td>0.012163</td>\n",
       "    </tr>\n",
       "    <tr>\n",
       "      <td>30</td>\n",
       "      <td>ninja001</td>\n",
       "      <td>8.931157</td>\n",
       "      <td>0.011026</td>\n",
       "    </tr>\n",
       "    <tr>\n",
       "      <td>12</td>\n",
       "      <td>sniper000</td>\n",
       "      <td>4.160475</td>\n",
       "      <td>0.010949</td>\n",
       "    </tr>\n",
       "    <tr>\n",
       "      <td>31</td>\n",
       "      <td>ninja002</td>\n",
       "      <td>13.565426</td>\n",
       "      <td>0.010940</td>\n",
       "    </tr>\n",
       "    <tr>\n",
       "      <td>17</td>\n",
       "      <td>spactory000</td>\n",
       "      <td>11.454545</td>\n",
       "      <td>0.010606</td>\n",
       "    </tr>\n",
       "    <tr>\n",
       "      <td>18</td>\n",
       "      <td>tack000</td>\n",
       "      <td>2.452153</td>\n",
       "      <td>0.008174</td>\n",
       "    </tr>\n",
       "  </tbody>\n",
       "</table>\n",
       "</div>"
      ],
      "text/plain": [
       "             Tower     Pops/Sec  (Pops/Sec)/$\n",
       "19         tack420  1334.257655      0.239544\n",
       "11         bomb024  1091.000000      0.188754\n",
       "38        plane204  5357.142857      0.170474\n",
       "7          dart420   452.282410      0.142004\n",
       "29  supermonkey230  2736.085450      0.124821\n",
       "10         bomb023   300.224972      0.108975\n",
       "8          dart520  2000.000000      0.103173\n",
       "5          dart320    89.862028      0.072469\n",
       "4          dart300    63.094521      0.068210\n",
       "14       sniper203   468.142857      0.066687\n",
       "20         boat010    72.222222      0.063632\n",
       "13       sniper302   406.095238      0.062669\n",
       "6          dart230    81.161137      0.060343\n",
       "15       sniper204   726.714286      0.059812\n",
       "9        boomer230   165.842167      0.054285\n",
       "21         boat020    86.969340      0.051922\n",
       "28  supermonkey320  1878.194208      0.051303\n",
       "37        plane203   269.192423      0.048900\n",
       "0          dart000     9.970326      0.046374\n",
       "1          dart010    13.238771      0.040735\n",
       "24          sub202   103.863233      0.040009\n",
       "25          sub203   151.243339      0.039948\n",
       "2          dart100    13.285884      0.036400\n",
       "3          dart220    28.797654      0.031473\n",
       "27  supermonkey200   315.865385      0.030786\n",
       "16         engi000    13.684211      0.028215\n",
       "35        ninja401   146.195327      0.027048\n",
       "36        ninja501  1054.951691      0.024417\n",
       "34        ninja301    58.087367      0.023855\n",
       "33        ninja201    28.841608      0.019037\n",
       "23          sub201    25.739784      0.016979\n",
       "32        ninja101    14.445097      0.012727\n",
       "26     dartling100    15.777778      0.012673\n",
       "22          sub200    12.528065      0.012163\n",
       "30        ninja001     8.931157      0.011026\n",
       "12       sniper000     4.160475      0.010949\n",
       "31        ninja002    13.565426      0.010940\n",
       "17     spactory000    11.454545      0.010606\n",
       "18         tack000     2.452153      0.008174"
      ]
     },
     "execution_count": 64,
     "metadata": {},
     "output_type": "execute_result"
    }
   ],
   "source": [
    "df"
   ]
  },
  {
   "cell_type": "code",
   "execution_count": 69,
   "metadata": {},
   "outputs": [
    {
     "data": {
      "text/plain": [
       "<matplotlib.axes._subplots.AxesSubplot at 0x29f9abab3c8>"
      ]
     },
     "execution_count": 69,
     "metadata": {},
     "output_type": "execute_result"
    },
    {
     "data": {
      "image/png": "[encoded data removed]",
      "text/plain": [
       "<Figure size 1440x720 with 1 Axes>"
      ]
     },
     "metadata": {
      "needs_background": "light"
     },
     "output_type": "display_data"
    }
   ],
   "source": [
    "df.plot.bar(x='Tower', y='(Pops/Sec)/$', figsize=(20,10))"
   ]
  },
  {
   "cell_type": "code",
   "execution_count": 57,
   "metadata": {},
   "outputs": [],
   "source": [
    "# hard\n",
    "\n",
    "# < 9    - 1,2,(3 with cleanup), \n",
    "# < 28.8 - 4,\n",
    "# < "
   ]
  },
  {
   "cell_type": "code",
   "execution_count": 58,
   "metadata": {},
   "outputs": [],
   "source": [
    "# MOAB popping power 200 pops to get down to ceramic, BFB 700, ZOMG 4000, DDT 350, BAD 20.000\n",
    "# seconds required to pop moab"
   ]
  },
  {
   "cell_type": "code",
   "execution_count": 59,
   "metadata": {},
   "outputs": [],
   "source": [
    "# 11 hits to kill moab - 19 at a time until getting to 200"
   ]
  },
  {
   "cell_type": "code",
   "execution_count": 60,
   "metadata": {},
   "outputs": [],
   "source": [
    "# seconds required to kill moab"
   ]
  },
  {
   "cell_type": "code",
   "execution_count": 61,
   "metadata": {},
   "outputs": [],
   "source": [
    "# single target moab test (hard pops/sec on 1 BAD)"
   ]
  },
  {
   "cell_type": "code",
   "execution_count": 62,
   "metadata": {},
   "outputs": [],
   "source": [
    "# 10 perma spikes before despawning? - permaspike destroys BAD"
   ]
  }
 ],
 "metadata": {
  "kernelspec": {
   "display_name": "Python 3",
   "language": "python",
   "name": "python3"
  },
  "language_info": {
   "codemirror_mode": {
    "name": "ipython",
    "version": 3
   },
   "file_extension": ".py",
   "mimetype": "text/x-python",
   "name": "python",
   "nbconvert_exporter": "python",
   "pygments_lexer": "ipython3",
   "version": "3.7.4"
  }
 },
 "nbformat": 4,
 "nbformat_minor": 2
}
